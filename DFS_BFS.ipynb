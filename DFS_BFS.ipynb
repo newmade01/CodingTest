{
  "nbformat": 4,
  "nbformat_minor": 0,
  "metadata": {
    "colab": {
      "name": "DFS/BFS",
      "provenance": [],
      "collapsed_sections": [],
      "authorship_tag": "ABX9TyPXb+05QpO86zfcctCfHezN",
      "include_colab_link": true
    },
    "kernelspec": {
      "name": "python3",
      "display_name": "Python 3"
    },
    "language_info": {
      "name": "python"
    }
  },
  "cells": [
    {
      "cell_type": "markdown",
      "metadata": {
        "id": "view-in-github",
        "colab_type": "text"
      },
      "source": [
        "<a href=\"https://colab.research.google.com/github/newmade01/CodingTest/blob/main/DFS_BFS.ipynb\" target=\"_parent\"><img src=\"https://colab.research.google.com/assets/colab-badge.svg\" alt=\"Open In Colab\"/></a>"
      ]
    },
    {
      "cell_type": "code",
      "execution_count": 1,
      "metadata": {
        "colab": {
          "base_uri": "https://localhost:8080/"
        },
        "id": "E-PM6G6BFStb",
        "outputId": "a8c37457-9de7-4734-85c5-53217ab61e60"
      },
      "outputs": [
        {
          "output_type": "stream",
          "name": "stdout",
          "text": [
            "1 2 7 6 8 3 4 5 "
          ]
        }
      ],
      "source": [
        "#DFS: 깊이 우선 탐색\n",
        "graph = [\n",
        "         [],  #index=1\n",
        "         [2,3,8],\n",
        "         [1,7],\n",
        "         [1,4,5],\n",
        "         [3,5],\n",
        "         [3,4],\n",
        "         [7],\n",
        "         [2,6,8],\n",
        "         [1,7]\n",
        "]\n",
        "visited = [False] * 9\n",
        "\n",
        "\n",
        "def dfs(graph, v, visited):\n",
        "  visited[v] = True\n",
        "\n",
        "  print(v, end=' ')\n",
        "\n",
        "  for i in graph[v]:\n",
        "    if not visited[i]:\n",
        "      dfs(graph, i , visited)\n",
        "\n",
        "\n",
        "dfs(graph, 1, visited) #1부터 시작"
      ]
    },
    {
      "cell_type": "code",
      "source": [
        "#BFS : 너비 우선 탐색, 큐\n",
        "#가까운 인접노두 모두 한번에 큐에 넣음\n",
        "#최단거리 구하기\n",
        "from collections import deque\n",
        "\n",
        "\n",
        "def bfs(graph, start, visited):\n",
        "  queue = deque([start])\n",
        "\n",
        "  visited[start] = True\n",
        "\n",
        "  while queue: #queue가 빌때까지\n",
        "    #queue에서 하나의 원소를 꺼내서 사용\n",
        "    v = queue.popleft()\n",
        "    print(v, end=' ')\n",
        "    \n",
        "    #꺼낸 노드와 인접한 노드\n",
        "    for i in graph[v]:\n",
        "      if not visited[i]:\n",
        "        queue.append(i) #인접한 노드를 한번에 모두 넣음\n",
        "        visited[i] = True\n",
        "\n",
        "\n",
        "graph = [\n",
        "         [],  #index=1\n",
        "         [2,3,8],\n",
        "         [1,7],\n",
        "         [1,4,5],\n",
        "         [3,5],\n",
        "         [3,4],\n",
        "         [7],\n",
        "         [2,6,8],\n",
        "         [1,7]\n",
        "]\n",
        "\n",
        "visitied = [False] * 9\n",
        "bfs(graph, 1, visited)\n",
        "\n"
      ],
      "metadata": {
        "colab": {
          "base_uri": "https://localhost:8080/"
        },
        "id": "96YcaZpJLqGY",
        "outputId": "0beac0ec-6972-42ed-988e-0a671fa53f52"
      },
      "execution_count": 8,
      "outputs": [
        {
          "output_type": "stream",
          "name": "stdout",
          "text": [
            "1 "
          ]
        }
      ]
    },
    {
      "cell_type": "code",
      "source": [
        "from collections import deque\n",
        "\n",
        "# BFS\n",
        "def bfs(graph, start, visited):\n",
        "  # 큐 구현을 위해 deque라이브러리 사용\n",
        "  queue = deque([start])\n",
        "\n",
        "  # 탐색 시작 노드를 방문 처리\n",
        "  visited[start] = True\n",
        "\n",
        "  # 큐가 빌 때까지 반복\n",
        "  while queue:\n",
        "    # 큐에서 하나의 원소를 꺼내서 출력\n",
        "    n = queue.popleft()\n",
        "    print(n, end='')\n",
        "\n",
        "    # 꺼낸 원소와 인접노드 확인\n",
        "    for i in graph[n]:\n",
        "      # 아직 방문하지 않은 노드라면\n",
        "      if not visited[i]:\n",
        "        queue.append(i)\n",
        "        visited[i]=True\n",
        "\n",
        "# 2차원 맵정보 입력받기\n",
        "graph=[\n",
        "  [], # 0번 노드 비우기\n",
        "  [2,3,8], #1번 노드와 연결된 2,3,8노드\n",
        "  [1,7],\n",
        "  [1,4,5],\n",
        "  [3,5],\n",
        "  [3,4],\n",
        "  [7],\n",
        "  [2,6,8],\n",
        "  [1,7]\n",
        "]\n",
        "\n",
        "# 방문 정보\n",
        "visited = [False]*(8+1) #(총 노드의 갯수)+인덱스 0\n",
        "# bfs호출\n",
        "bfs(graph, 1, visited)"
      ],
      "metadata": {
        "colab": {
          "base_uri": "https://localhost:8080/"
        },
        "id": "_oae5kVPOWQZ",
        "outputId": "ea65ece7-d41d-4624-fdc7-5992a01ec179"
      },
      "execution_count": 7,
      "outputs": [
        {
          "output_type": "stream",
          "name": "stdout",
          "text": [
            "12387456"
          ]
        }
      ]
    },
    {
      "cell_type": "code",
      "source": [
        ""
      ],
      "metadata": {
        "id": "Thlbx6pSPijn"
      },
      "execution_count": null,
      "outputs": []
    }
  ]
}