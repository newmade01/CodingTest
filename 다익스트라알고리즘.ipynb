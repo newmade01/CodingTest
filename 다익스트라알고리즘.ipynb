{
  "nbformat": 4,
  "nbformat_minor": 0,
  "metadata": {
    "colab": {
      "name": "다익스트라알고리즘",
      "provenance": [],
      "collapsed_sections": [],
      "authorship_tag": "ABX9TyPYifPFQJ0Cxmxx/F5oyC7l",
      "include_colab_link": true
    },
    "kernelspec": {
      "name": "python3",
      "display_name": "Python 3"
    },
    "language_info": {
      "name": "python"
    }
  },
  "cells": [
    {
      "cell_type": "markdown",
      "metadata": {
        "id": "view-in-github",
        "colab_type": "text"
      },
      "source": [
        "<a href=\"https://colab.research.google.com/github/newmade01/CodingTest/blob/main/%EB%8B%A4%EC%9D%B5%EC%8A%A4%ED%8A%B8%EB%9D%BC%EC%95%8C%EA%B3%A0%EB%A6%AC%EC%A6%98.ipynb\" target=\"_parent\"><img src=\"https://colab.research.google.com/assets/colab-badge.svg\" alt=\"Open In Colab\"/></a>"
      ]
    },
    {
      "cell_type": "markdown",
      "source": [
        "*   가장 짧은 경로를 찾는 알고리즘\n",
        "*   특정 start ~ end까지 최단경로\n",
        "*   노드 & 간선\n",
        "*   음의 간선이 없을때\n",
        "\n",
        "\n",
        "\n",
        "1.   출발 노드를 설정\n",
        "2.   최단거리 초기화\n",
        "3.   방문하지 않은 노드중 -> 최단거리 가장 짧은 노드\n",
        "4.   해당 노드를 거쳐 비용을 계산\n",
        "5.   3,4 반복\n",
        "\n",
        "\n"
      ],
      "metadata": {
        "id": "QJTejY779oux"
      }
    },
    {
      "cell_type": "markdown",
      "source": [
        "그리디 알고리즘에 포함\n",
        "\n",
        "\n"
      ],
      "metadata": {
        "id": "hNc6YMCpUktc"
      }
    },
    {
      "cell_type": "code",
      "source": [
        "import sys\n",
        "input = sys.stdin.readline\n",
        "\n",
        "INF = int(1e9) #무한 10억\n",
        "\n",
        "n, m = map(int, input().split()) #노드, 간선\n",
        "\n",
        "#시작 번호 입력\n",
        "start =int(input())\n",
        "\n",
        "graph = [[] for i in range(n+1)]\n",
        "\n",
        "visited = [False] * (n+1)\n",
        "\n",
        "#최단거리 테이블 초기화: 무한\n",
        "distance = [INF] * (n+1)\n",
        "\n",
        "\n",
        "#간선 정보 입력\n",
        "for _ in range(m):\n",
        "  a,b,c = map(int, input().split()) #a->b 비용 c\n",
        "  graph[a].append((b,c))\n",
        "\n",
        "#방문하지 않은 노드중, 가장 최단거리가 짧은 노드 번호 반환\n",
        "#def\n",
        "##########but,, 너무 어려워.. 시간도 많이 걸려###################"
      ],
      "metadata": {
        "id": "oZDrah-mUzT9"
      },
      "execution_count": null,
      "outputs": []
    },
    {
      "cell_type": "markdown",
      "source": [
        "*  우선순위 큐 자료구조를 활용 **힙구조**\n",
        "\n",
        "\n",
        "\n",
        "```\n",
        "import heapq #오름차순으로 정렬됨\n",
        "\n",
        "heapq.heappush()\n",
        "heapq.heappop()\n",
        "\n",
        "```\n",
        "\n",
        "*  방문하지 않은 노드 중에서, 최단 거리가 짧은 노드를 구함\n",
        "*  매 상황에서 최단 거리가 가장 짧은 노드를 선택해야 하므로 최소 힙을 사용\n",
        "\n",
        "\n",
        "\n"
      ],
      "metadata": {
        "id": "NOZ-yfjrV5dL"
      }
    },
    {
      "cell_type": "code",
      "source": [
        "#우선순위 큐 => 튜플(거리, 노드)를 꺼냄\n",
        "#새로운걸 거쳐갈때 더 작은 값이면 => 갱신된 정보값만 큐에 넣음\n",
        "\n",
        "import heapq\n",
        "import sys\n",
        "\n",
        "input = sys.stdin.readline\n",
        "INF = int(1e9)\n",
        "\n",
        "n, m = map(int, input().split()) #노드, 간선수\n",
        "\n",
        "start = int(input())\n",
        "graph = [[] for _ in range(n+1)]\n",
        "distance = [INF] * (n+1)\n",
        "\n",
        "for _ in range(m):\n",
        "  a,b,c = map(int, input().split())\n",
        "  graph[a].append((b,c))\n",
        "\n",
        "def dijkstra(strat):\n",
        "  q= []\n",
        "\n",
        "  #시작노드로 가기위한 최단거리 큐에 삽입\n",
        "  #튜플(거리, 노드)\n",
        "  heapq.heappush(q, (0, start)) #출발 노드까지 거리가 0\n",
        "  distance[start] = 0\n",
        "\n",
        "  while q: #큐가 빌때까지 반복\n",
        "    #가장 최단거리 짧은 노드 정보 꺼내기/거리, 노드\n",
        "    dist, now = heapq.heapopp(q)\n",
        "\n",
        "    #현재 노드가 이미 처리된 적 있으면 무시\n",
        "    if distance[now] < dist:\n",
        "      continue\n",
        "    \n",
        "    #현재 노드와 연결된 다른 인접한 노드 확인\n",
        "    for i in graph[now]:\n",
        "      cost = dist + i[1]  #무한+ 도착지까지 비용 더함\n",
        "\n",
        "      #거칠때, 다른 노드가 더 짧은 경우 변경해줌\n",
        "      if cost < distance[i[0]]:\n",
        "        distance[i[0]] = cost\n",
        "        heapq.heappush(q, (cost, i[0])) #(거리, 노드)\n",
        "\n",
        "\n",
        "\n",
        "dijkstra(start)\n",
        "\n",
        "#모든 노드로 가기위한 최단 거리 출력\n",
        "#변경된 거리를 나타내는 테이블 값\n",
        "for i in range(1, n+1):\n",
        "  if distance[i] == INF:\n",
        "    print(\"INFINITY\")\n",
        "  else:\n",
        "    print(distance[i])"
      ],
      "metadata": {
        "id": "gFIZq2cRVzvI"
      },
      "execution_count": null,
      "outputs": []
    }
  ]
}