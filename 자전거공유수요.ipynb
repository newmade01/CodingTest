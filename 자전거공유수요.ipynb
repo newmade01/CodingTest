{
 "cells": [
  {
   "cell_type": "markdown",
   "metadata": {},
   "source": [
    "https://www.kaggle.com/c/bike-sharing-demand/\n",
    "\n",
    "목적: 프로그램에서 자전거 대여 수요 예측\n",
    "목표: 특정 시간에 얼마나 많은 사람들이 자전거를 대여하는지 예측\n",
    "\n",
    "사용 데이터: 과거 사용 패턴, 날씨 데이터 결합"
   ]
  }
 ],
 "metadata": {
  "kernelspec": {
   "display_name": "ai",
   "language": "python",
   "name": "python3"
  },
  "language_info": {
   "name": "python",
   "version": "3.8.19"
  }
 },
 "nbformat": 4,
 "nbformat_minor": 2
}
