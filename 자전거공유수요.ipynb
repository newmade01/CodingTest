{
 "cells": [
  {
   "cell_type": "markdown",
   "metadata": {},
   "source": [
    "https://www.kaggle.com/c/bike-sharing-demand/\n",
    "\n",
    "## 목적: 프로그램에서 자전거 대여 수요 예측\n",
    "## 목표: 특정 시간에 얼마나 많은 사람들이 자전거를 대여하는지 예측\n",
    "\n",
    "## 사용 데이터: 과거 사용 패턴, 날씨 데이터 결합"
   ]
  },
  {
   "cell_type": "markdown",
   "metadata": {},
   "source": [
    "# 라이브러리 import/데이터 확인"
   ]
  },
  {
   "cell_type": "code",
   "execution_count": 1,
   "metadata": {},
   "outputs": [
    {
     "name": "stderr",
     "output_type": "stream",
     "text": [
      "<frozen importlib._bootstrap>:219: RuntimeWarning: numpy.ufunc size changed, may indicate binary incompatibility. Expected 216 from C header, got 232 from PyObject\n"
     ]
    }
   ],
   "source": [
    "import pandas as pd\n",
    "import seaborn as sns\n",
    "import matplotlib.pyplot as plt\n",
    "import numpy as np\n",
    "import datetime as dt\n",
    "import scipy"
   ]
  },
  {
   "cell_type": "code",
   "execution_count": null,
   "metadata": {},
   "outputs": [],
   "source": [
    "train =  pd.read_csv('train.csv')\n",
    "test =  pd.read_csv('test.csv')\n",
    "submission = pd.read_cst('SampleSubmission.csv')"
   ]
  },
  {
   "cell_type": "markdown",
   "metadata": {},
   "source": [
    "# 데이터 확인\n",
    "count = registered +  casual의 값"
   ]
  },
  {
   "cell_type": "code",
   "execution_count": null,
   "metadata": {},
   "outputs": [],
   "source": [
    "train.columns\n",
    "test.columns"
   ]
  },
  {
   "cell_type": "code",
   "execution_count": null,
   "metadata": {},
   "outputs": [],
   "source": [
    "train.head()\n",
    "test.head()\n",
    "submission.head()"
   ]
  },
  {
   "cell_type": "code",
   "execution_count": null,
   "metadata": {},
   "outputs": [],
   "source": [
    "train['datetime'] = pd.to_datetime(train['datetime'])\n",
    "test['datetime'] = pd.to_datetime(test['datetime'])"
   ]
  },
  {
   "cell_type": "code",
   "execution_count": null,
   "metadata": {},
   "outputs": [],
   "source": [
    "train_info()\n",
    "test_info()"
   ]
  },
  {
   "cell_type": "code",
   "execution_count": null,
   "metadata": {},
   "outputs": [],
   "source": [
    "print(test.shape)\n",
    "print(train.shape)"
   ]
  },
  {
   "cell_type": "markdown",
   "metadata": {},
   "source": [
    "# 데이터 EDA"
   ]
  },
  {
   "cell_type": "markdown",
   "metadata": {},
   "source": [
    "### 자전거 수요량 확인"
   ]
  },
  {
   "cell_type": "code",
   "execution_count": null,
   "metadata": {},
   "outputs": [],
   "source": [
    "#train\n",
    "train['year'] = train['datetime'].dt.year\n",
    "train['month'] = train['datetime'].dt.month\n",
    "train['day'] = train['datetime'].dt.day\n",
    "train['hour'] = train['datetime'].dt.hour\n",
    "train['minute'] = train['datetime'].dt.minute\n",
    "train['second'] = train['datetime'].dt.second\n",
    "train['weekday'] = train['datetime'].dt.weekday()\n",
    "\n",
    "\n",
    "#test\n",
    "test['year'] = test['datetime'].dt.year\n",
    "test['month'] = test['datetime'].dt.month\n",
    "test['day'] = test['datetime'].dt.day\n",
    "test['hour'] = test['datetime'].dt.hour\n",
    "test['minute'] = test['datetime'].dt.minute\n",
    "test['second'] = test['datetime'].dt.second\n",
    "test['weekday'] = test['datetime'].dt.weekday()\n",
    "\n",
    "#weekday\n",
    "#dayofweek\n"
   ]
  },
  {
   "cell_type": "markdown",
   "metadata": {},
   "source": [
    "### year별 자전거 수요량\n"
   ]
  },
  {
   "cell_type": "code",
   "execution_count": null,
   "metadata": {},
   "outputs": [],
   "source": [
    "sns.barplot(data=train, x = 'year', y = 'count')"
   ]
  },
  {
   "cell_type": "markdown",
   "metadata": {},
   "source": [
    "년도에 따라 증가, 두개의 year로 상관관계라고 보긴 어려움\n"
   ]
  },
  {
   "cell_type": "markdown",
   "metadata": {},
   "source": [
    "### month 별 자전거 수요량"
   ]
  },
  {
   "cell_type": "code",
   "execution_count": null,
   "metadata": {},
   "outputs": [],
   "source": [
    "sns.barplot(data=train, x = 'month', y = 'count')"
   ]
  },
  {
   "cell_type": "markdown",
   "metadata": {},
   "source": [
    "12,1,2월 겨울쯤 수요량이 적다. -> 날씨의 영향을 받음"
   ]
  },
  {
   "cell_type": "markdown",
   "metadata": {},
   "source": [
    "### day 별 자전거 수요량"
   ]
  },
  {
   "cell_type": "code",
   "execution_count": null,
   "metadata": {},
   "outputs": [],
   "source": [
    "sns.barplot(data=train, x='day', y='count')"
   ]
  },
  {
   "cell_type": "markdown",
   "metadata": {},
   "source": [
    "차이가 미미함"
   ]
  },
  {
   "cell_type": "markdown",
   "metadata": {},
   "source": [
    "### 계절별 season"
   ]
  },
  {
   "cell_type": "code",
   "execution_count": null,
   "metadata": {},
   "outputs": [],
   "source": [
    "sns.barplot(data='train', x = 'season', y = 'count')"
   ]
  },
  {
   "cell_type": "markdown",
   "metadata": {},
   "source": [
    "season을 나누는 경계를 확인이 필요"
   ]
  },
  {
   "cell_type": "code",
   "execution_count": null,
   "metadata": {},
   "outputs": [],
   "source": [
    "print(train[train['season']] == 1).month.unique()\n",
    "print(train[train['season']] == 2).month.unique()\n",
    "print(train[train['season']] == 3).month.unique()\n",
    "print(train[train['season']] == 4).month.unique()"
   ]
  },
  {
   "cell_type": "markdown",
   "metadata": {},
   "source": [
    "### 시간대별 pointploot\n",
    "seaborn.pointplot 함수에서 ax 옵션은 특정 Axes 객체에 그래프를 그릴 수 있도록 지정하는 옵션입니다. 이는 여러 개의 서브플롯을 만들거나 기존의 Axes 객체에 추가적인 그래프를 그릴 때 유용합니다.\n",
    "\n"
   ]
  },
  {
   "cell_type": "code",
   "execution_count": null,
   "metadata": {},
   "outputs": [],
   "source": [
    "fig, (ax1) = plt.subplot(1,1)\n",
    "fig.set_size_inches(20, 5)\n",
    "\n",
    "sns.pointplot(data=train, x='hour', y='count', ax=ax1)"
   ]
  },
  {
   "cell_type": "markdown",
   "metadata": {},
   "source": [
    "8, 17시 출퇴근 시간에 수요량이 많음"
   ]
  },
  {
   "cell_type": "markdown",
   "metadata": {},
   "source": [
    "일하는 요일(workingday)에 시간대별 point plot 확인"
   ]
  },
  {
   "cell_type": "code",
   "execution_count": null,
   "metadata": {},
   "outputs": [],
   "source": [
    "fig, (ax1) = plt.subplot(1, 1)\n",
    "fig.set_Size_inches(20, 5)\n",
    "\n",
    "#카태고리형 데이터는 hue 변수를 추가\n",
    "sns.pointplot(data=train, x='hour', y='count', hue='workingday', ax = ax1)\n"
   ]
  },
  {
   "cell_type": "markdown",
   "metadata": {},
   "source": [
    "### holiday, 시간대별 pointplot"
   ]
  },
  {
   "cell_type": "code",
   "execution_count": null,
   "metadata": {},
   "outputs": [],
   "source": [
    "fig, ax1 = plt.subplot(1,1)\n",
    "fig.set_size_inches(20,5)\n",
    "\n",
    "sns.pointplot(data=train, x='hour', y='count', hue='holiday', ax = ax1)"
   ]
  },
  {
   "cell_type": "markdown",
   "metadata": {},
   "source": [
    "일할 때, 출퇴근 시간에 자전거 수요가 증가\n",
    "휴일일 때, 오후 시간대에 증가"
   ]
  },
  {
   "cell_type": "markdown",
   "metadata": {},
   "source": [
    "### weather, 시간대별 pointplot"
   ]
  },
  {
   "cell_type": "code",
   "execution_count": null,
   "metadata": {},
   "outputs": [],
   "source": [
    "fig, ax1 = plt.subplot(1,1)\n",
    "fig.set_size_inches(20, 5)\n",
    "\n",
    "sns.pointplot(data=train, x='hour', y='count', hue='weather', ax=ax1 )"
   ]
  },
  {
   "cell_type": "markdown",
   "metadata": {},
   "source": [
    "### dayofweek, 시간대별 poinplot 확인"
   ]
  },
  {
   "cell_type": "code",
   "execution_count": null,
   "metadata": {},
   "outputs": [],
   "source": [
    "fig, ax1 = plt.subplot(1,1)\n",
    "fig.set_size_inches(20, 5)\n",
    "\n",
    "sns.pointplot(data=train, x='hour', y='count', hue='dayofweek', ax = ax1)"
   ]
  },
  {
   "cell_type": "markdown",
   "metadata": {},
   "source": [
    "### 변수의 상관관계"
   ]
  },
  {
   "cell_type": "code",
   "execution_count": null,
   "metadata": {},
   "outputs": [],
   "source": [
    "corr_data = [['datatime', 'season', 'holiday', 'wether', 'temp', 'atemp', 'humidity', 'windspeed']]\n",
    "\n",
    "colormap = plt.cm.PuBu\n",
    "\n",
    "sns.heatmap(corr_data.corr(),\n",
    "            linewidths=0.2,\n",
    "            square=True,\n",
    "            annot=True,\n",
    "            cmap=colormap\n",
    "            )\n",
    "\n",
    "# corr_data.corr(): corr_data 데이터 프레임의 상관 행렬을 계산합니다. .corr() 메서드는 각 열 간의 상관 관계를 계산하여 반환합니다.\n",
    "# annot=True: 각 셀에 상관 계수 값을 표시합니다.\n"
   ]
  },
  {
   "cell_type": "markdown",
   "metadata": {},
   "source": [
    "### 온도, 습도, 바람세기 분석"
   ]
  },
  {
   "cell_type": "code",
   "execution_count": null,
   "metadata": {},
   "outputs": [],
   "source": [
    "fig, (ax1, ax2, ax2) = plt.subplots(ncols = 3, figsize=(12,5))\n",
    "\n",
    "sns.scatterplot(dat=train, x='windspeed', y='count', ax=ax1)\n",
    "sns.scatterplot(data=train, x='temp', y='count', ax=ax2)\n",
    "sns.scatterplot(dat=train, x='humidity', y='count', ax=ax3)\n"
   ]
  },
  {
   "cell_type": "markdown",
   "metadata": {},
   "source": [
    "바람의 세기가 0일 수 없음"
   ]
  },
  {
   "cell_type": "code",
   "execution_count": null,
   "metadata": {},
   "outputs": [],
   "source": [
    "len(train[train['windspeed'] == 0])"
   ]
  },
  {
   "cell_type": "markdown",
   "metadata": {},
   "source": [
    "# "
   ]
  }
 ],
 "metadata": {
  "kernelspec": {
   "display_name": "ai",
   "language": "python",
   "name": "python3"
  },
  "language_info": {
   "codemirror_mode": {
    "name": "ipython",
    "version": 3
   },
   "file_extension": ".py",
   "mimetype": "text/x-python",
   "name": "python",
   "nbconvert_exporter": "python",
   "pygments_lexer": "ipython3",
   "version": "3.8.19"
  }
 },
 "nbformat": 4,
 "nbformat_minor": 2
}
