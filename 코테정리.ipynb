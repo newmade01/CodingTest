{
  "nbformat": 4,
  "nbformat_minor": 0,
  "metadata": {
    "colab": {
      "name": "코테 ",
      "provenance": [],
      "authorship_tag": "ABX9TyPVVfxfQ6x0tpG9P/VnAVZD",
      "include_colab_link": true
    },
    "kernelspec": {
      "name": "python3",
      "display_name": "Python 3"
    },
    "language_info": {
      "name": "python"
    }
  },
  "cells": [
    {
      "cell_type": "markdown",
      "metadata": {
        "id": "view-in-github",
        "colab_type": "text"
      },
      "source": [
        "<a href=\"https://colab.research.google.com/github/newmade01/CodingTest/blob/main/%EC%BD%94%ED%85%8C%EC%A0%95%EB%A6%AC.ipynb\" target=\"_parent\"><img src=\"https://colab.research.google.com/assets/colab-badge.svg\" alt=\"Open In Colab\"/></a>"
      ]
    },
    {
      "cell_type": "code",
      "execution_count": null,
      "metadata": {
        "colab": {
          "base_uri": "https://localhost:8080/"
        },
        "id": "SvrCklvmORAL",
        "outputId": "f9a6cf4b-0d94-4892-c175-86142989e968"
      },
      "outputs": [
        {
          "output_type": "stream",
          "name": "stdout",
          "text": [
            "2\n",
            "하늘 3\n",
            "바다 1\n",
            "바다 하늘 "
          ]
        }
      ],
      "source": [
        "#성적이 낮은 순서로 학생 출력하기\n",
        "\n",
        "\n",
        "num = int(input())\n",
        "array = []\n",
        "for i in range(num):\n",
        "  input_data   = input().split()\n",
        "  array.append((input_data[0], input_data[1]))\n",
        "\n",
        "\n",
        "array = sorted(array, key=lambda x: x[1])\n",
        "\n",
        "for x in array:\n",
        "  print(x[0], end=' ')"
      ]
    },
    {
      "cell_type": "markdown",
      "source": [
        "이탤릭체 텍스트"
      ],
      "metadata": {
        "id": "mZVugVM1FVtr"
      }
    },
    {
      "cell_type": "code",
      "source": [
        "#두 배열의 원소 교체\n",
        "\n",
        "n, k = map(int, input().split())\n",
        " \n",
        "a = list(map(int, input().split()))\n",
        "b = list(map(int, input().split()))\n",
        "\n",
        "a.sort()\n",
        "b.sort(reverse=True)\n",
        "for i in range(k):\n",
        "  if a[i] < b[i]:\n",
        "    a[i], b[i] = b[i], a[i]\n",
        "  else:\n",
        "    break\n",
        "\n",
        "print(sum(a))"
      ],
      "metadata": {
        "colab": {
          "base_uri": "https://localhost:8080/"
        },
        "id": "wYfn17vnH1L0",
        "outputId": "d6531645-b2a0-45c5-95d4-a6d590a599c3"
      },
      "execution_count": null,
      "outputs": [
        {
          "output_type": "stream",
          "name": "stdout",
          "text": [
            "5 3\n",
            "1 2 5 4 3\n",
            "5 5 6 6 5\n",
            "26\n"
          ]
        }
      ]
    },
    {
      "cell_type": "code",
      "source": [
        "n, target = list(map(int, input().split()))\n",
        "\n",
        "array = list(map(int, input().split()))\n",
        "\n",
        "result = "
      ],
      "metadata": {
        "id": "qzRNEK0-KHUW"
      },
      "execution_count": null,
      "outputs": []
    },
    {
      "cell_type": "code",
      "source": [
        "import sys\n",
        "\n",
        "data = sys.stdin.readline().rstrip()\n",
        "\n",
        "data =sys.stdin.readline().rstrip()"
      ],
      "metadata": {
        "id": "cymZCNoUSbxf"
      },
      "execution_count": null,
      "outputs": []
    },
    {
      "cell_type": "code",
      "source": [
        "def bi_sear(array, target, start, end): #인덱스 번호\n",
        "  while(start <= end):\n",
        "    mid = (start+end) // 2\n",
        "\n",
        "    if array[mid]  == target:\n",
        "      return mid  #타겟 값을 반환\n",
        "    elif array[mid] > target:\n",
        "      end = mid-1\n",
        "    else:\n",
        "      start = mid+1\n",
        "\n",
        "    return None\n",
        "\n",
        "n = int(input())\n",
        "n_data = list(map(int, input().split()))\n",
        "n_data.sort()\n",
        "\n",
        "\n",
        "m= int(input())\n",
        "m_data = list(map(int, input().split()))\n",
        "\n",
        "for i in m_data:\n",
        "  ans = bi_sear(n_data, i, 0, n-1)\n",
        "  if ans != None\n",
        "    print('yes', end=' ')\n",
        "  else:\n",
        "    print('no', end= ' ')"
      ],
      "metadata": {
        "id": "5oPu_2MZTN4Y"
      },
      "execution_count": null,
      "outputs": []
    },
    {
      "cell_type": "code",
      "source": [
        "n, m = list(map(int, input().split(' ')))\n",
        "\n",
        "array = list(map(int, input.split()))\n",
        "\n",
        "start = 0 \n",
        "end = max(array)\n",
        "\n",
        "result = 0\n",
        "\n",
        "while(start <= end):\n",
        "  total = 0\n",
        "  mid = (start+end) //2\n",
        "  for x in array:\n",
        "    if x > mid:\n",
        "      "
      ],
      "metadata": {
        "id": "xGhn5L5EWPLa"
      },
      "execution_count": null,
      "outputs": []
    },
    {
      "cell_type": "code",
      "source": [
        "#다이나믹 프로그래밍\n",
        "\n",
        "d = [0] * 100\n",
        "\n",
        "def fibo(x):\n",
        "  if x==1 or x==2:\n",
        "    return 1\n",
        "\n",
        "  if d[x] != 0:\n",
        "    return d[x]\n",
        "\n",
        "  d[x] = fibo(x-1) + fibo(x-2)\n",
        "  return d[x]\n",
        "\n",
        "print(fibo(99))"
      ],
      "metadata": {
        "colab": {
          "base_uri": "https://localhost:8080/"
        },
        "id": "82QVssuvh-7u",
        "outputId": "7637f976-b303-4cfe-e88f-8d987346504f"
      },
      "execution_count": null,
      "outputs": [
        {
          "output_type": "stream",
          "name": "stdout",
          "text": [
            "218922995834555169026\n"
          ]
        }
      ]
    },
    {
      "cell_type": "code",
      "source": [
        "#최소 한칸 이상 떨어지\n",
        "\n",
        "n = int(input())\n",
        "data = list(map(int, input().split()))\n",
        "\n",
        "\n",
        "max_data = max(data)\n",
        "\n"
      ],
      "metadata": {
        "id": "kAuAl0stjltb"
      },
      "execution_count": null,
      "outputs": []
    },
    {
      "cell_type": "code",
      "source": [
        "n = int(input()) \n",
        "def d(n):\n",
        "  for i in str(n): n += int(i)\n",
        "print(n)\n",
        "\n",
        "a = set(list(range(1, 5000)))\n",
        "b= set()\n",
        "\n",
        "print(sum(a-b))\n"
      ],
      "metadata": {
        "colab": {
          "base_uri": "https://localhost:8080/"
        },
        "id": "mLIJHIIXuH2M",
        "outputId": "9251e69a-8425-4dd3-cb67-9444b9d225fa"
      },
      "execution_count": null,
      "outputs": [
        {
          "output_type": "stream",
          "name": "stdout",
          "text": [
            "91\n",
            "101\n"
          ]
        }
      ]
    },
    {
      "cell_type": "code",
      "source": [
        ""
      ],
      "metadata": {
        "id": "B5X7HXRsvNn0"
      },
      "execution_count": null,
      "outputs": []
    },
    {
      "cell_type": "markdown",
      "source": [
        "# DFS/BFS\n",
        "- 많은 양의 데이터중 원하는 데이터를 찾는 과정\n",
        "\n",
        "**스택 자료구조**\n",
        "\n",
        "**큐**\n",
        "- fom collections import deque\n",
        "\n",
        "**재귀 함수**\n",
        "- 팩토리얼 구현\n",
        "- 유클리드 호제법: 최대공약수"
      ],
      "metadata": {
        "id": "rvoz_HHXksaW"
      }
    },
    {
      "cell_type": "code",
      "source": [
        "#유클리드 호제법\n",
        "def gcd(a, b):\n",
        "  if a%b ==0:\n",
        "    return b\n",
        "  else:\n",
        "    return gcd(b, a%b)\n",
        "\n",
        "print(gcd(192, 162))"
      ],
      "metadata": {
        "id": "xSrbuaEpp6xn"
      },
      "execution_count": null,
      "outputs": []
    }
  ]
}